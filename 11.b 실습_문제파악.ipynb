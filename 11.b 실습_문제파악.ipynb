{
 "cells": [
  {
   "cell_type": "markdown",
   "metadata": {},
   "source": [
    "### 기술 지원 데이터는 종종 고객 경험 개선 기회에 대한 풍부한 정보 소스가 될 수 있습니다. 제품에 대한 고객의 문제가 적을수록 좋습니다. 고객이 최소한의 노력으로 기술적 과제를 신속하게 극복 할 수 있다면 더욱 좋습니다. 기술 지원 데이터를 분석하고 문제 유형, 문제 해결 시간 및 가장 적합한 지원 채널에 대한 기본적인 분석을 수행하겠습니다."
   ]
  },
  {
   "cell_type": "code",
   "execution_count": null,
   "metadata": {},
   "outputs": [],
   "source": []
  },
  {
   "cell_type": "markdown",
   "metadata": {},
   "source": [
    "## technical_support_data.csv 파일을 통해, 비슷한 유형의 문제들을 도출하시오."
   ]
  },
  {
   "cell_type": "code",
   "execution_count": 1,
   "metadata": {},
   "outputs": [],
   "source": [
    "import pandas as pd\n",
    "import numpy as np\n",
    "import matplotlib.pyplot as plt"
   ]
  },
  {
   "cell_type": "code",
   "execution_count": 3,
   "metadata": {},
   "outputs": [],
   "source": [
    "df = pd.read_csv('../data/technical_support_data.csv')"
   ]
  },
  {
   "cell_type": "code",
   "execution_count": 4,
   "metadata": {},
   "outputs": [
    {
     "data": {
      "text/html": [
       "<div>\n",
       "<style scoped>\n",
       "    .dataframe tbody tr th:only-of-type {\n",
       "        vertical-align: middle;\n",
       "    }\n",
       "\n",
       "    .dataframe tbody tr th {\n",
       "        vertical-align: top;\n",
       "    }\n",
       "\n",
       "    .dataframe thead th {\n",
       "        text-align: right;\n",
       "    }\n",
       "</style>\n",
       "<table border=\"1\" class=\"dataframe\">\n",
       "  <thead>\n",
       "    <tr style=\"text-align: right;\">\n",
       "      <th></th>\n",
       "      <th>PROBLEM_TYPE</th>\n",
       "      <th>no_of_cases</th>\n",
       "      <th>Avg_pending_calls</th>\n",
       "      <th>Avg_resol_time</th>\n",
       "      <th>recurrence_freq</th>\n",
       "      <th>Replace_percent</th>\n",
       "      <th>In_warranty_percent</th>\n",
       "      <th>Post_warranty_percent</th>\n",
       "    </tr>\n",
       "  </thead>\n",
       "  <tbody>\n",
       "    <tr>\n",
       "      <th>0</th>\n",
       "      <td>Temperature control not working</td>\n",
       "      <td>170</td>\n",
       "      <td>1.3</td>\n",
       "      <td>32</td>\n",
       "      <td>0.04</td>\n",
       "      <td>0.00</td>\n",
       "      <td>75</td>\n",
       "      <td>25</td>\n",
       "    </tr>\n",
       "    <tr>\n",
       "      <th>1</th>\n",
       "      <td>power chord does not tightly fit</td>\n",
       "      <td>12</td>\n",
       "      <td>2.0</td>\n",
       "      <td>150</td>\n",
       "      <td>0.01</td>\n",
       "      <td>0.50</td>\n",
       "      <td>5</td>\n",
       "      <td>95</td>\n",
       "    </tr>\n",
       "    <tr>\n",
       "      <th>2</th>\n",
       "      <td>Fan swing not working</td>\n",
       "      <td>5</td>\n",
       "      <td>1.0</td>\n",
       "      <td>35</td>\n",
       "      <td>0.02</td>\n",
       "      <td>0.20</td>\n",
       "      <td>90</td>\n",
       "      <td>10</td>\n",
       "    </tr>\n",
       "    <tr>\n",
       "      <th>3</th>\n",
       "      <td>Main switch does not on</td>\n",
       "      <td>3</td>\n",
       "      <td>2.0</td>\n",
       "      <td>8</td>\n",
       "      <td>0.01</td>\n",
       "      <td>0.70</td>\n",
       "      <td>5</td>\n",
       "      <td>95</td>\n",
       "    </tr>\n",
       "    <tr>\n",
       "      <th>4</th>\n",
       "      <td>Forgot mobile app password</td>\n",
       "      <td>45</td>\n",
       "      <td>2.3</td>\n",
       "      <td>54</td>\n",
       "      <td>0.15</td>\n",
       "      <td>0.00</td>\n",
       "      <td>99</td>\n",
       "      <td>1</td>\n",
       "    </tr>\n",
       "    <tr>\n",
       "      <th>5</th>\n",
       "      <td>AC stops abruptly</td>\n",
       "      <td>47</td>\n",
       "      <td>3.1</td>\n",
       "      <td>132</td>\n",
       "      <td>0.30</td>\n",
       "      <td>0.03</td>\n",
       "      <td>100</td>\n",
       "      <td>0</td>\n",
       "    </tr>\n",
       "    <tr>\n",
       "      <th>6</th>\n",
       "      <td>App hangs while entring commands</td>\n",
       "      <td>12</td>\n",
       "      <td>4.0</td>\n",
       "      <td>154</td>\n",
       "      <td>0.02</td>\n",
       "      <td>0.05</td>\n",
       "      <td>100</td>\n",
       "      <td>0</td>\n",
       "    </tr>\n",
       "    <tr>\n",
       "      <th>7</th>\n",
       "      <td>App takes a long time to initialize</td>\n",
       "      <td>165</td>\n",
       "      <td>1.2</td>\n",
       "      <td>32</td>\n",
       "      <td>0.03</td>\n",
       "      <td>0.00</td>\n",
       "      <td>95</td>\n",
       "      <td>5</td>\n",
       "    </tr>\n",
       "    <tr>\n",
       "      <th>8</th>\n",
       "      <td>Unable to connect the App to the device</td>\n",
       "      <td>321</td>\n",
       "      <td>1.0</td>\n",
       "      <td>5</td>\n",
       "      <td>0.21</td>\n",
       "      <td>0.00</td>\n",
       "      <td>60</td>\n",
       "      <td>40</td>\n",
       "    </tr>\n",
       "    <tr>\n",
       "      <th>9</th>\n",
       "      <td>Reinstalling the app hangs the phone</td>\n",
       "      <td>22</td>\n",
       "      <td>3.3</td>\n",
       "      <td>140</td>\n",
       "      <td>0.14</td>\n",
       "      <td>0.01</td>\n",
       "      <td>95</td>\n",
       "      <td>5</td>\n",
       "    </tr>\n",
       "    <tr>\n",
       "      <th>10</th>\n",
       "      <td>Mobile screen blanks on use of phone</td>\n",
       "      <td>23</td>\n",
       "      <td>4.3</td>\n",
       "      <td>143</td>\n",
       "      <td>0.21</td>\n",
       "      <td>0.06</td>\n",
       "      <td>100</td>\n",
       "      <td>0</td>\n",
       "    </tr>\n",
       "    <tr>\n",
       "      <th>11</th>\n",
       "      <td>Cluttered with popup messages</td>\n",
       "      <td>230</td>\n",
       "      <td>1.3</td>\n",
       "      <td>23</td>\n",
       "      <td>0.02</td>\n",
       "      <td>0.00</td>\n",
       "      <td>10</td>\n",
       "      <td>90</td>\n",
       "    </tr>\n",
       "    <tr>\n",
       "      <th>12</th>\n",
       "      <td>AC controller sofware missing</td>\n",
       "      <td>193</td>\n",
       "      <td>1.2</td>\n",
       "      <td>33</td>\n",
       "      <td>0.03</td>\n",
       "      <td>0.00</td>\n",
       "      <td>100</td>\n",
       "      <td>0</td>\n",
       "    </tr>\n",
       "    <tr>\n",
       "      <th>13</th>\n",
       "      <td>AC remote does not  work</td>\n",
       "      <td>24</td>\n",
       "      <td>2.8</td>\n",
       "      <td>180</td>\n",
       "      <td>0.04</td>\n",
       "      <td>0.00</td>\n",
       "      <td>100</td>\n",
       "      <td>0</td>\n",
       "    </tr>\n",
       "    <tr>\n",
       "      <th>14</th>\n",
       "      <td>Remote Keys get stuck</td>\n",
       "      <td>450</td>\n",
       "      <td>1.0</td>\n",
       "      <td>8</td>\n",
       "      <td>0.25</td>\n",
       "      <td>0.00</td>\n",
       "      <td>100</td>\n",
       "      <td>0</td>\n",
       "    </tr>\n",
       "    <tr>\n",
       "      <th>15</th>\n",
       "      <td>Unable to operate menu from remote</td>\n",
       "      <td>520</td>\n",
       "      <td>1.0</td>\n",
       "      <td>7</td>\n",
       "      <td>0.28</td>\n",
       "      <td>0.00</td>\n",
       "      <td>100</td>\n",
       "      <td>0</td>\n",
       "    </tr>\n",
       "    <tr>\n",
       "      <th>16</th>\n",
       "      <td>Motor noise from the system</td>\n",
       "      <td>390</td>\n",
       "      <td>1.0</td>\n",
       "      <td>9</td>\n",
       "      <td>0.27</td>\n",
       "      <td>0.00</td>\n",
       "      <td>5</td>\n",
       "      <td>95</td>\n",
       "    </tr>\n",
       "    <tr>\n",
       "      <th>17</th>\n",
       "      <td>Freshner holder stuck</td>\n",
       "      <td>140</td>\n",
       "      <td>1.7</td>\n",
       "      <td>23</td>\n",
       "      <td>0.05</td>\n",
       "      <td>0.04</td>\n",
       "      <td>60</td>\n",
       "      <td>40</td>\n",
       "    </tr>\n",
       "    <tr>\n",
       "      <th>18</th>\n",
       "      <td>Factory settings not working</td>\n",
       "      <td>72</td>\n",
       "      <td>2.3</td>\n",
       "      <td>125</td>\n",
       "      <td>0.02</td>\n",
       "      <td>0.00</td>\n",
       "      <td>100</td>\n",
       "      <td>0</td>\n",
       "    </tr>\n",
       "    <tr>\n",
       "      <th>19</th>\n",
       "      <td>WIFI connectivity breaks</td>\n",
       "      <td>290</td>\n",
       "      <td>1.1</td>\n",
       "      <td>11</td>\n",
       "      <td>0.22</td>\n",
       "      <td>0.00</td>\n",
       "      <td>90</td>\n",
       "      <td>10</td>\n",
       "    </tr>\n",
       "    <tr>\n",
       "      <th>20</th>\n",
       "      <td>Battery backup does not get fully charged</td>\n",
       "      <td>29</td>\n",
       "      <td>2.2</td>\n",
       "      <td>45</td>\n",
       "      <td>0.35</td>\n",
       "      <td>0.22</td>\n",
       "      <td>50</td>\n",
       "      <td>50</td>\n",
       "    </tr>\n",
       "    <tr>\n",
       "      <th>21</th>\n",
       "      <td>Battery does not last full 8 hrs</td>\n",
       "      <td>43</td>\n",
       "      <td>2.1</td>\n",
       "      <td>56</td>\n",
       "      <td>0.31</td>\n",
       "      <td>0.28</td>\n",
       "      <td>60</td>\n",
       "      <td>40</td>\n",
       "    </tr>\n",
       "    <tr>\n",
       "      <th>22</th>\n",
       "      <td>Fan speed varies at on its own</td>\n",
       "      <td>78</td>\n",
       "      <td>2.2</td>\n",
       "      <td>44</td>\n",
       "      <td>0.19</td>\n",
       "      <td>0.21</td>\n",
       "      <td>10</td>\n",
       "      <td>90</td>\n",
       "    </tr>\n",
       "  </tbody>\n",
       "</table>\n",
       "</div>"
      ],
      "text/plain": [
       "                                 PROBLEM_TYPE  no_of_cases  Avg_pending_calls  \\\n",
       "0             Temperature control not working          170                1.3   \n",
       "1            power chord does not tightly fit           12                2.0   \n",
       "2                       Fan swing not working            5                1.0   \n",
       "3                     Main switch does not on            3                2.0   \n",
       "4                  Forgot mobile app password           45                2.3   \n",
       "5                           AC stops abruptly           47                3.1   \n",
       "6            App hangs while entring commands           12                4.0   \n",
       "7         App takes a long time to initialize          165                1.2   \n",
       "8     Unable to connect the App to the device          321                1.0   \n",
       "9        Reinstalling the app hangs the phone           22                3.3   \n",
       "10       Mobile screen blanks on use of phone           23                4.3   \n",
       "11              Cluttered with popup messages          230                1.3   \n",
       "12              AC controller sofware missing          193                1.2   \n",
       "13                   AC remote does not  work           24                2.8   \n",
       "14                     Remote Keys get stuck           450                1.0   \n",
       "15         Unable to operate menu from remote          520                1.0   \n",
       "16               Motor noise from the system           390                1.0   \n",
       "17                     Freshner holder stuck           140                1.7   \n",
       "18               Factory settings not working           72                2.3   \n",
       "19                  WIFI connectivity breaks           290                1.1   \n",
       "20  Battery backup does not get fully charged           29                2.2   \n",
       "21           Battery does not last full 8 hrs           43                2.1   \n",
       "22             Fan speed varies at on its own           78                2.2   \n",
       "\n",
       "    Avg_resol_time  recurrence_freq  Replace_percent  In_warranty_percent  \\\n",
       "0               32             0.04             0.00                   75   \n",
       "1              150             0.01             0.50                    5   \n",
       "2               35             0.02             0.20                   90   \n",
       "3                8             0.01             0.70                    5   \n",
       "4               54             0.15             0.00                   99   \n",
       "5              132             0.30             0.03                  100   \n",
       "6              154             0.02             0.05                  100   \n",
       "7               32             0.03             0.00                   95   \n",
       "8                5             0.21             0.00                   60   \n",
       "9              140             0.14             0.01                   95   \n",
       "10             143             0.21             0.06                  100   \n",
       "11              23             0.02             0.00                   10   \n",
       "12              33             0.03             0.00                  100   \n",
       "13             180             0.04             0.00                  100   \n",
       "14               8             0.25             0.00                  100   \n",
       "15               7             0.28             0.00                  100   \n",
       "16               9             0.27             0.00                    5   \n",
       "17              23             0.05             0.04                   60   \n",
       "18             125             0.02             0.00                  100   \n",
       "19              11             0.22             0.00                   90   \n",
       "20              45             0.35             0.22                   50   \n",
       "21              56             0.31             0.28                   60   \n",
       "22              44             0.19             0.21                   10   \n",
       "\n",
       "    Post_warranty_percent  \n",
       "0                      25  \n",
       "1                      95  \n",
       "2                      10  \n",
       "3                      95  \n",
       "4                       1  \n",
       "5                       0  \n",
       "6                       0  \n",
       "7                       5  \n",
       "8                      40  \n",
       "9                       5  \n",
       "10                      0  \n",
       "11                     90  \n",
       "12                      0  \n",
       "13                      0  \n",
       "14                      0  \n",
       "15                      0  \n",
       "16                     95  \n",
       "17                     40  \n",
       "18                      0  \n",
       "19                     10  \n",
       "20                     50  \n",
       "21                     40  \n",
       "22                     90  "
      ]
     },
     "execution_count": 4,
     "metadata": {},
     "output_type": "execute_result"
    }
   ],
   "source": [
    "df"
   ]
  },
  {
   "cell_type": "code",
   "execution_count": 5,
   "metadata": {},
   "outputs": [
    {
     "data": {
      "text/html": [
       "<div>\n",
       "<style scoped>\n",
       "    .dataframe tbody tr th:only-of-type {\n",
       "        vertical-align: middle;\n",
       "    }\n",
       "\n",
       "    .dataframe tbody tr th {\n",
       "        vertical-align: top;\n",
       "    }\n",
       "\n",
       "    .dataframe thead th {\n",
       "        text-align: right;\n",
       "    }\n",
       "</style>\n",
       "<table border=\"1\" class=\"dataframe\">\n",
       "  <thead>\n",
       "    <tr style=\"text-align: right;\">\n",
       "      <th></th>\n",
       "      <th>PROBLEM_TYPE</th>\n",
       "      <th>no_of_cases</th>\n",
       "      <th>Avg_pending_calls</th>\n",
       "      <th>Avg_resol_time</th>\n",
       "      <th>recurrence_freq</th>\n",
       "      <th>Replace_percent</th>\n",
       "      <th>In_warranty_percent</th>\n",
       "      <th>Post_warranty_percent</th>\n",
       "    </tr>\n",
       "  </thead>\n",
       "  <tbody>\n",
       "    <tr>\n",
       "      <th>0</th>\n",
       "      <td>Temperature control not working</td>\n",
       "      <td>170</td>\n",
       "      <td>1.3</td>\n",
       "      <td>32</td>\n",
       "      <td>0.04</td>\n",
       "      <td>0.0</td>\n",
       "      <td>75</td>\n",
       "      <td>25</td>\n",
       "    </tr>\n",
       "    <tr>\n",
       "      <th>1</th>\n",
       "      <td>power chord does not tightly fit</td>\n",
       "      <td>12</td>\n",
       "      <td>2.0</td>\n",
       "      <td>150</td>\n",
       "      <td>0.01</td>\n",
       "      <td>0.5</td>\n",
       "      <td>5</td>\n",
       "      <td>95</td>\n",
       "    </tr>\n",
       "    <tr>\n",
       "      <th>2</th>\n",
       "      <td>Fan swing not working</td>\n",
       "      <td>5</td>\n",
       "      <td>1.0</td>\n",
       "      <td>35</td>\n",
       "      <td>0.02</td>\n",
       "      <td>0.2</td>\n",
       "      <td>90</td>\n",
       "      <td>10</td>\n",
       "    </tr>\n",
       "  </tbody>\n",
       "</table>\n",
       "</div>"
      ],
      "text/plain": [
       "                       PROBLEM_TYPE  no_of_cases  Avg_pending_calls  \\\n",
       "0   Temperature control not working          170                1.3   \n",
       "1  power chord does not tightly fit           12                2.0   \n",
       "2             Fan swing not working            5                1.0   \n",
       "\n",
       "   Avg_resol_time  recurrence_freq  Replace_percent  In_warranty_percent  \\\n",
       "0              32             0.04              0.0                   75   \n",
       "1             150             0.01              0.5                    5   \n",
       "2              35             0.02              0.2                   90   \n",
       "\n",
       "   Post_warranty_percent  \n",
       "0                     25  \n",
       "1                     95  \n",
       "2                     10  "
      ]
     },
     "execution_count": 5,
     "metadata": {},
     "output_type": "execute_result"
    }
   ],
   "source": [
    "df.head(3)"
   ]
  },
  {
   "cell_type": "code",
   "execution_count": 7,
   "metadata": {},
   "outputs": [
    {
     "data": {
      "text/plain": [
       "PROBLEM_TYPE             0\n",
       "no_of_cases              0\n",
       "Avg_pending_calls        0\n",
       "Avg_resol_time           0\n",
       "recurrence_freq          0\n",
       "Replace_percent          0\n",
       "In_warranty_percent      0\n",
       "Post_warranty_percent    0\n",
       "dtype: int64"
      ]
     },
     "execution_count": 7,
     "metadata": {},
     "output_type": "execute_result"
    }
   ],
   "source": [
    "df.isna().sum()"
   ]
  },
  {
   "cell_type": "code",
   "execution_count": 8,
   "metadata": {},
   "outputs": [],
   "source": [
    "X = df.loc[:,'no_of_cases':'Post_warranty_percent']"
   ]
  },
  {
   "cell_type": "code",
   "execution_count": 10,
   "metadata": {},
   "outputs": [
    {
     "data": {
      "text/html": [
       "<div>\n",
       "<style scoped>\n",
       "    .dataframe tbody tr th:only-of-type {\n",
       "        vertical-align: middle;\n",
       "    }\n",
       "\n",
       "    .dataframe tbody tr th {\n",
       "        vertical-align: top;\n",
       "    }\n",
       "\n",
       "    .dataframe thead th {\n",
       "        text-align: right;\n",
       "    }\n",
       "</style>\n",
       "<table border=\"1\" class=\"dataframe\">\n",
       "  <thead>\n",
       "    <tr style=\"text-align: right;\">\n",
       "      <th></th>\n",
       "      <th>no_of_cases</th>\n",
       "      <th>Avg_pending_calls</th>\n",
       "      <th>Avg_resol_time</th>\n",
       "      <th>recurrence_freq</th>\n",
       "      <th>Replace_percent</th>\n",
       "      <th>In_warranty_percent</th>\n",
       "      <th>Post_warranty_percent</th>\n",
       "    </tr>\n",
       "  </thead>\n",
       "  <tbody>\n",
       "    <tr>\n",
       "      <th>0</th>\n",
       "      <td>170</td>\n",
       "      <td>1.3</td>\n",
       "      <td>32</td>\n",
       "      <td>0.04</td>\n",
       "      <td>0.0</td>\n",
       "      <td>75</td>\n",
       "      <td>25</td>\n",
       "    </tr>\n",
       "    <tr>\n",
       "      <th>1</th>\n",
       "      <td>12</td>\n",
       "      <td>2.0</td>\n",
       "      <td>150</td>\n",
       "      <td>0.01</td>\n",
       "      <td>0.5</td>\n",
       "      <td>5</td>\n",
       "      <td>95</td>\n",
       "    </tr>\n",
       "    <tr>\n",
       "      <th>2</th>\n",
       "      <td>5</td>\n",
       "      <td>1.0</td>\n",
       "      <td>35</td>\n",
       "      <td>0.02</td>\n",
       "      <td>0.2</td>\n",
       "      <td>90</td>\n",
       "      <td>10</td>\n",
       "    </tr>\n",
       "  </tbody>\n",
       "</table>\n",
       "</div>"
      ],
      "text/plain": [
       "   no_of_cases  Avg_pending_calls  Avg_resol_time  recurrence_freq  \\\n",
       "0          170                1.3              32             0.04   \n",
       "1           12                2.0             150             0.01   \n",
       "2            5                1.0              35             0.02   \n",
       "\n",
       "   Replace_percent  In_warranty_percent  Post_warranty_percent  \n",
       "0              0.0                   75                     25  \n",
       "1              0.5                    5                     95  \n",
       "2              0.2                   90                     10  "
      ]
     },
     "execution_count": 10,
     "metadata": {},
     "output_type": "execute_result"
    }
   ],
   "source": [
    "X.head(3)"
   ]
  },
  {
   "cell_type": "code",
   "execution_count": 11,
   "metadata": {},
   "outputs": [],
   "source": [
    "from sklearn.cluster import KMeans"
   ]
  },
  {
   "cell_type": "code",
   "execution_count": 12,
   "metadata": {},
   "outputs": [],
   "source": [
    "kmeans = KMeans(n_clusters=3, random_state= 10)"
   ]
  },
  {
   "cell_type": "code",
   "execution_count": 14,
   "metadata": {},
   "outputs": [
    {
     "name": "stderr",
     "output_type": "stream",
     "text": [
      "C:\\Users\\406\\miniconda3\\envs\\yh\\lib\\site-packages\\sklearn\\cluster\\_kmeans.py:1419: UserWarning: KMeans is known to have a memory leak on Windows with MKL, when there are less chunks than available threads. You can avoid it by setting the environment variable OMP_NUM_THREADS=1.\n",
      "  warnings.warn(\n"
     ]
    }
   ],
   "source": [
    "y_pred = kmeans.fit_predict(X)"
   ]
  },
  {
   "cell_type": "code",
   "execution_count": 15,
   "metadata": {},
   "outputs": [
    {
     "data": {
      "text/plain": [
       "array([0, 2, 2, 2, 2, 2, 2, 0, 1, 2, 2, 0, 0, 2, 1, 1, 1, 0, 2, 0, 2, 2,\n",
       "       2], dtype=int32)"
      ]
     },
     "execution_count": 15,
     "metadata": {},
     "output_type": "execute_result"
    }
   ],
   "source": [
    "y_pred"
   ]
  },
  {
   "cell_type": "code",
   "execution_count": 16,
   "metadata": {},
   "outputs": [],
   "source": [
    "df['Group'] = y_pred"
   ]
  },
  {
   "cell_type": "code",
   "execution_count": 17,
   "metadata": {},
   "outputs": [
    {
     "data": {
      "text/html": [
       "<div>\n",
       "<style scoped>\n",
       "    .dataframe tbody tr th:only-of-type {\n",
       "        vertical-align: middle;\n",
       "    }\n",
       "\n",
       "    .dataframe tbody tr th {\n",
       "        vertical-align: top;\n",
       "    }\n",
       "\n",
       "    .dataframe thead th {\n",
       "        text-align: right;\n",
       "    }\n",
       "</style>\n",
       "<table border=\"1\" class=\"dataframe\">\n",
       "  <thead>\n",
       "    <tr style=\"text-align: right;\">\n",
       "      <th></th>\n",
       "      <th>PROBLEM_TYPE</th>\n",
       "      <th>no_of_cases</th>\n",
       "      <th>Avg_pending_calls</th>\n",
       "      <th>Avg_resol_time</th>\n",
       "      <th>recurrence_freq</th>\n",
       "      <th>Replace_percent</th>\n",
       "      <th>In_warranty_percent</th>\n",
       "      <th>Post_warranty_percent</th>\n",
       "      <th>Group</th>\n",
       "    </tr>\n",
       "  </thead>\n",
       "  <tbody>\n",
       "    <tr>\n",
       "      <th>0</th>\n",
       "      <td>Temperature control not working</td>\n",
       "      <td>170</td>\n",
       "      <td>1.3</td>\n",
       "      <td>32</td>\n",
       "      <td>0.04</td>\n",
       "      <td>0.00</td>\n",
       "      <td>75</td>\n",
       "      <td>25</td>\n",
       "      <td>0</td>\n",
       "    </tr>\n",
       "    <tr>\n",
       "      <th>1</th>\n",
       "      <td>power chord does not tightly fit</td>\n",
       "      <td>12</td>\n",
       "      <td>2.0</td>\n",
       "      <td>150</td>\n",
       "      <td>0.01</td>\n",
       "      <td>0.50</td>\n",
       "      <td>5</td>\n",
       "      <td>95</td>\n",
       "      <td>2</td>\n",
       "    </tr>\n",
       "    <tr>\n",
       "      <th>2</th>\n",
       "      <td>Fan swing not working</td>\n",
       "      <td>5</td>\n",
       "      <td>1.0</td>\n",
       "      <td>35</td>\n",
       "      <td>0.02</td>\n",
       "      <td>0.20</td>\n",
       "      <td>90</td>\n",
       "      <td>10</td>\n",
       "      <td>2</td>\n",
       "    </tr>\n",
       "    <tr>\n",
       "      <th>3</th>\n",
       "      <td>Main switch does not on</td>\n",
       "      <td>3</td>\n",
       "      <td>2.0</td>\n",
       "      <td>8</td>\n",
       "      <td>0.01</td>\n",
       "      <td>0.70</td>\n",
       "      <td>5</td>\n",
       "      <td>95</td>\n",
       "      <td>2</td>\n",
       "    </tr>\n",
       "    <tr>\n",
       "      <th>4</th>\n",
       "      <td>Forgot mobile app password</td>\n",
       "      <td>45</td>\n",
       "      <td>2.3</td>\n",
       "      <td>54</td>\n",
       "      <td>0.15</td>\n",
       "      <td>0.00</td>\n",
       "      <td>99</td>\n",
       "      <td>1</td>\n",
       "      <td>2</td>\n",
       "    </tr>\n",
       "    <tr>\n",
       "      <th>5</th>\n",
       "      <td>AC stops abruptly</td>\n",
       "      <td>47</td>\n",
       "      <td>3.1</td>\n",
       "      <td>132</td>\n",
       "      <td>0.30</td>\n",
       "      <td>0.03</td>\n",
       "      <td>100</td>\n",
       "      <td>0</td>\n",
       "      <td>2</td>\n",
       "    </tr>\n",
       "    <tr>\n",
       "      <th>6</th>\n",
       "      <td>App hangs while entring commands</td>\n",
       "      <td>12</td>\n",
       "      <td>4.0</td>\n",
       "      <td>154</td>\n",
       "      <td>0.02</td>\n",
       "      <td>0.05</td>\n",
       "      <td>100</td>\n",
       "      <td>0</td>\n",
       "      <td>2</td>\n",
       "    </tr>\n",
       "    <tr>\n",
       "      <th>7</th>\n",
       "      <td>App takes a long time to initialize</td>\n",
       "      <td>165</td>\n",
       "      <td>1.2</td>\n",
       "      <td>32</td>\n",
       "      <td>0.03</td>\n",
       "      <td>0.00</td>\n",
       "      <td>95</td>\n",
       "      <td>5</td>\n",
       "      <td>0</td>\n",
       "    </tr>\n",
       "    <tr>\n",
       "      <th>8</th>\n",
       "      <td>Unable to connect the App to the device</td>\n",
       "      <td>321</td>\n",
       "      <td>1.0</td>\n",
       "      <td>5</td>\n",
       "      <td>0.21</td>\n",
       "      <td>0.00</td>\n",
       "      <td>60</td>\n",
       "      <td>40</td>\n",
       "      <td>1</td>\n",
       "    </tr>\n",
       "    <tr>\n",
       "      <th>9</th>\n",
       "      <td>Reinstalling the app hangs the phone</td>\n",
       "      <td>22</td>\n",
       "      <td>3.3</td>\n",
       "      <td>140</td>\n",
       "      <td>0.14</td>\n",
       "      <td>0.01</td>\n",
       "      <td>95</td>\n",
       "      <td>5</td>\n",
       "      <td>2</td>\n",
       "    </tr>\n",
       "    <tr>\n",
       "      <th>10</th>\n",
       "      <td>Mobile screen blanks on use of phone</td>\n",
       "      <td>23</td>\n",
       "      <td>4.3</td>\n",
       "      <td>143</td>\n",
       "      <td>0.21</td>\n",
       "      <td>0.06</td>\n",
       "      <td>100</td>\n",
       "      <td>0</td>\n",
       "      <td>2</td>\n",
       "    </tr>\n",
       "    <tr>\n",
       "      <th>11</th>\n",
       "      <td>Cluttered with popup messages</td>\n",
       "      <td>230</td>\n",
       "      <td>1.3</td>\n",
       "      <td>23</td>\n",
       "      <td>0.02</td>\n",
       "      <td>0.00</td>\n",
       "      <td>10</td>\n",
       "      <td>90</td>\n",
       "      <td>0</td>\n",
       "    </tr>\n",
       "    <tr>\n",
       "      <th>12</th>\n",
       "      <td>AC controller sofware missing</td>\n",
       "      <td>193</td>\n",
       "      <td>1.2</td>\n",
       "      <td>33</td>\n",
       "      <td>0.03</td>\n",
       "      <td>0.00</td>\n",
       "      <td>100</td>\n",
       "      <td>0</td>\n",
       "      <td>0</td>\n",
       "    </tr>\n",
       "    <tr>\n",
       "      <th>13</th>\n",
       "      <td>AC remote does not  work</td>\n",
       "      <td>24</td>\n",
       "      <td>2.8</td>\n",
       "      <td>180</td>\n",
       "      <td>0.04</td>\n",
       "      <td>0.00</td>\n",
       "      <td>100</td>\n",
       "      <td>0</td>\n",
       "      <td>2</td>\n",
       "    </tr>\n",
       "    <tr>\n",
       "      <th>14</th>\n",
       "      <td>Remote Keys get stuck</td>\n",
       "      <td>450</td>\n",
       "      <td>1.0</td>\n",
       "      <td>8</td>\n",
       "      <td>0.25</td>\n",
       "      <td>0.00</td>\n",
       "      <td>100</td>\n",
       "      <td>0</td>\n",
       "      <td>1</td>\n",
       "    </tr>\n",
       "    <tr>\n",
       "      <th>15</th>\n",
       "      <td>Unable to operate menu from remote</td>\n",
       "      <td>520</td>\n",
       "      <td>1.0</td>\n",
       "      <td>7</td>\n",
       "      <td>0.28</td>\n",
       "      <td>0.00</td>\n",
       "      <td>100</td>\n",
       "      <td>0</td>\n",
       "      <td>1</td>\n",
       "    </tr>\n",
       "    <tr>\n",
       "      <th>16</th>\n",
       "      <td>Motor noise from the system</td>\n",
       "      <td>390</td>\n",
       "      <td>1.0</td>\n",
       "      <td>9</td>\n",
       "      <td>0.27</td>\n",
       "      <td>0.00</td>\n",
       "      <td>5</td>\n",
       "      <td>95</td>\n",
       "      <td>1</td>\n",
       "    </tr>\n",
       "    <tr>\n",
       "      <th>17</th>\n",
       "      <td>Freshner holder stuck</td>\n",
       "      <td>140</td>\n",
       "      <td>1.7</td>\n",
       "      <td>23</td>\n",
       "      <td>0.05</td>\n",
       "      <td>0.04</td>\n",
       "      <td>60</td>\n",
       "      <td>40</td>\n",
       "      <td>0</td>\n",
       "    </tr>\n",
       "    <tr>\n",
       "      <th>18</th>\n",
       "      <td>Factory settings not working</td>\n",
       "      <td>72</td>\n",
       "      <td>2.3</td>\n",
       "      <td>125</td>\n",
       "      <td>0.02</td>\n",
       "      <td>0.00</td>\n",
       "      <td>100</td>\n",
       "      <td>0</td>\n",
       "      <td>2</td>\n",
       "    </tr>\n",
       "    <tr>\n",
       "      <th>19</th>\n",
       "      <td>WIFI connectivity breaks</td>\n",
       "      <td>290</td>\n",
       "      <td>1.1</td>\n",
       "      <td>11</td>\n",
       "      <td>0.22</td>\n",
       "      <td>0.00</td>\n",
       "      <td>90</td>\n",
       "      <td>10</td>\n",
       "      <td>0</td>\n",
       "    </tr>\n",
       "    <tr>\n",
       "      <th>20</th>\n",
       "      <td>Battery backup does not get fully charged</td>\n",
       "      <td>29</td>\n",
       "      <td>2.2</td>\n",
       "      <td>45</td>\n",
       "      <td>0.35</td>\n",
       "      <td>0.22</td>\n",
       "      <td>50</td>\n",
       "      <td>50</td>\n",
       "      <td>2</td>\n",
       "    </tr>\n",
       "    <tr>\n",
       "      <th>21</th>\n",
       "      <td>Battery does not last full 8 hrs</td>\n",
       "      <td>43</td>\n",
       "      <td>2.1</td>\n",
       "      <td>56</td>\n",
       "      <td>0.31</td>\n",
       "      <td>0.28</td>\n",
       "      <td>60</td>\n",
       "      <td>40</td>\n",
       "      <td>2</td>\n",
       "    </tr>\n",
       "    <tr>\n",
       "      <th>22</th>\n",
       "      <td>Fan speed varies at on its own</td>\n",
       "      <td>78</td>\n",
       "      <td>2.2</td>\n",
       "      <td>44</td>\n",
       "      <td>0.19</td>\n",
       "      <td>0.21</td>\n",
       "      <td>10</td>\n",
       "      <td>90</td>\n",
       "      <td>2</td>\n",
       "    </tr>\n",
       "  </tbody>\n",
       "</table>\n",
       "</div>"
      ],
      "text/plain": [
       "                                 PROBLEM_TYPE  no_of_cases  Avg_pending_calls  \\\n",
       "0             Temperature control not working          170                1.3   \n",
       "1            power chord does not tightly fit           12                2.0   \n",
       "2                       Fan swing not working            5                1.0   \n",
       "3                     Main switch does not on            3                2.0   \n",
       "4                  Forgot mobile app password           45                2.3   \n",
       "5                           AC stops abruptly           47                3.1   \n",
       "6            App hangs while entring commands           12                4.0   \n",
       "7         App takes a long time to initialize          165                1.2   \n",
       "8     Unable to connect the App to the device          321                1.0   \n",
       "9        Reinstalling the app hangs the phone           22                3.3   \n",
       "10       Mobile screen blanks on use of phone           23                4.3   \n",
       "11              Cluttered with popup messages          230                1.3   \n",
       "12              AC controller sofware missing          193                1.2   \n",
       "13                   AC remote does not  work           24                2.8   \n",
       "14                     Remote Keys get stuck           450                1.0   \n",
       "15         Unable to operate menu from remote          520                1.0   \n",
       "16               Motor noise from the system           390                1.0   \n",
       "17                     Freshner holder stuck           140                1.7   \n",
       "18               Factory settings not working           72                2.3   \n",
       "19                  WIFI connectivity breaks           290                1.1   \n",
       "20  Battery backup does not get fully charged           29                2.2   \n",
       "21           Battery does not last full 8 hrs           43                2.1   \n",
       "22             Fan speed varies at on its own           78                2.2   \n",
       "\n",
       "    Avg_resol_time  recurrence_freq  Replace_percent  In_warranty_percent  \\\n",
       "0               32             0.04             0.00                   75   \n",
       "1              150             0.01             0.50                    5   \n",
       "2               35             0.02             0.20                   90   \n",
       "3                8             0.01             0.70                    5   \n",
       "4               54             0.15             0.00                   99   \n",
       "5              132             0.30             0.03                  100   \n",
       "6              154             0.02             0.05                  100   \n",
       "7               32             0.03             0.00                   95   \n",
       "8                5             0.21             0.00                   60   \n",
       "9              140             0.14             0.01                   95   \n",
       "10             143             0.21             0.06                  100   \n",
       "11              23             0.02             0.00                   10   \n",
       "12              33             0.03             0.00                  100   \n",
       "13             180             0.04             0.00                  100   \n",
       "14               8             0.25             0.00                  100   \n",
       "15               7             0.28             0.00                  100   \n",
       "16               9             0.27             0.00                    5   \n",
       "17              23             0.05             0.04                   60   \n",
       "18             125             0.02             0.00                  100   \n",
       "19              11             0.22             0.00                   90   \n",
       "20              45             0.35             0.22                   50   \n",
       "21              56             0.31             0.28                   60   \n",
       "22              44             0.19             0.21                   10   \n",
       "\n",
       "    Post_warranty_percent  Group  \n",
       "0                      25      0  \n",
       "1                      95      2  \n",
       "2                      10      2  \n",
       "3                      95      2  \n",
       "4                       1      2  \n",
       "5                       0      2  \n",
       "6                       0      2  \n",
       "7                       5      0  \n",
       "8                      40      1  \n",
       "9                       5      2  \n",
       "10                      0      2  \n",
       "11                     90      0  \n",
       "12                      0      0  \n",
       "13                      0      2  \n",
       "14                      0      1  \n",
       "15                      0      1  \n",
       "16                     95      1  \n",
       "17                     40      0  \n",
       "18                      0      2  \n",
       "19                     10      0  \n",
       "20                     50      2  \n",
       "21                     40      2  \n",
       "22                     90      2  "
      ]
     },
     "execution_count": 17,
     "metadata": {},
     "output_type": "execute_result"
    }
   ],
   "source": [
    "df"
   ]
  },
  {
   "cell_type": "code",
   "execution_count": 20,
   "metadata": {},
   "outputs": [
    {
     "data": {
      "text/html": [
       "<div>\n",
       "<style scoped>\n",
       "    .dataframe tbody tr th:only-of-type {\n",
       "        vertical-align: middle;\n",
       "    }\n",
       "\n",
       "    .dataframe tbody tr th {\n",
       "        vertical-align: top;\n",
       "    }\n",
       "\n",
       "    .dataframe thead th {\n",
       "        text-align: right;\n",
       "    }\n",
       "</style>\n",
       "<table border=\"1\" class=\"dataframe\">\n",
       "  <thead>\n",
       "    <tr style=\"text-align: right;\">\n",
       "      <th></th>\n",
       "      <th>PROBLEM_TYPE</th>\n",
       "      <th>no_of_cases</th>\n",
       "      <th>Avg_pending_calls</th>\n",
       "      <th>Avg_resol_time</th>\n",
       "      <th>recurrence_freq</th>\n",
       "      <th>Replace_percent</th>\n",
       "      <th>In_warranty_percent</th>\n",
       "      <th>Post_warranty_percent</th>\n",
       "      <th>Group</th>\n",
       "    </tr>\n",
       "  </thead>\n",
       "  <tbody>\n",
       "    <tr>\n",
       "      <th>8</th>\n",
       "      <td>Unable to connect the App to the device</td>\n",
       "      <td>321</td>\n",
       "      <td>1.0</td>\n",
       "      <td>5</td>\n",
       "      <td>0.21</td>\n",
       "      <td>0.0</td>\n",
       "      <td>60</td>\n",
       "      <td>40</td>\n",
       "      <td>1</td>\n",
       "    </tr>\n",
       "    <tr>\n",
       "      <th>14</th>\n",
       "      <td>Remote Keys get stuck</td>\n",
       "      <td>450</td>\n",
       "      <td>1.0</td>\n",
       "      <td>8</td>\n",
       "      <td>0.25</td>\n",
       "      <td>0.0</td>\n",
       "      <td>100</td>\n",
       "      <td>0</td>\n",
       "      <td>1</td>\n",
       "    </tr>\n",
       "    <tr>\n",
       "      <th>15</th>\n",
       "      <td>Unable to operate menu from remote</td>\n",
       "      <td>520</td>\n",
       "      <td>1.0</td>\n",
       "      <td>7</td>\n",
       "      <td>0.28</td>\n",
       "      <td>0.0</td>\n",
       "      <td>100</td>\n",
       "      <td>0</td>\n",
       "      <td>1</td>\n",
       "    </tr>\n",
       "    <tr>\n",
       "      <th>16</th>\n",
       "      <td>Motor noise from the system</td>\n",
       "      <td>390</td>\n",
       "      <td>1.0</td>\n",
       "      <td>9</td>\n",
       "      <td>0.27</td>\n",
       "      <td>0.0</td>\n",
       "      <td>5</td>\n",
       "      <td>95</td>\n",
       "      <td>1</td>\n",
       "    </tr>\n",
       "  </tbody>\n",
       "</table>\n",
       "</div>"
      ],
      "text/plain": [
       "                               PROBLEM_TYPE  no_of_cases  Avg_pending_calls  \\\n",
       "8   Unable to connect the App to the device          321                1.0   \n",
       "14                   Remote Keys get stuck           450                1.0   \n",
       "15       Unable to operate menu from remote          520                1.0   \n",
       "16             Motor noise from the system           390                1.0   \n",
       "\n",
       "    Avg_resol_time  recurrence_freq  Replace_percent  In_warranty_percent  \\\n",
       "8                5             0.21              0.0                   60   \n",
       "14               8             0.25              0.0                  100   \n",
       "15               7             0.28              0.0                  100   \n",
       "16               9             0.27              0.0                    5   \n",
       "\n",
       "    Post_warranty_percent  Group  \n",
       "8                      40      1  \n",
       "14                      0      1  \n",
       "15                      0      1  \n",
       "16                     95      1  "
      ]
     },
     "execution_count": 20,
     "metadata": {},
     "output_type": "execute_result"
    }
   ],
   "source": [
    "df.loc[df['Group'] == 1, ]"
   ]
  },
  {
   "cell_type": "code",
   "execution_count": 34,
   "metadata": {},
   "outputs": [
    {
     "name": "stderr",
     "output_type": "stream",
     "text": [
      "C:\\Users\\406\\miniconda3\\envs\\yh\\lib\\site-packages\\sklearn\\cluster\\_kmeans.py:1419: UserWarning: KMeans is known to have a memory leak on Windows with MKL, when there are less chunks than available threads. You can avoid it by setting the environment variable OMP_NUM_THREADS=1.\n",
      "  warnings.warn(\n",
      "C:\\Users\\406\\miniconda3\\envs\\yh\\lib\\site-packages\\sklearn\\cluster\\_kmeans.py:1419: UserWarning: KMeans is known to have a memory leak on Windows with MKL, when there are less chunks than available threads. You can avoid it by setting the environment variable OMP_NUM_THREADS=1.\n",
      "  warnings.warn(\n",
      "C:\\Users\\406\\miniconda3\\envs\\yh\\lib\\site-packages\\sklearn\\cluster\\_kmeans.py:1419: UserWarning: KMeans is known to have a memory leak on Windows with MKL, when there are less chunks than available threads. You can avoid it by setting the environment variable OMP_NUM_THREADS=1.\n",
      "  warnings.warn(\n",
      "C:\\Users\\406\\miniconda3\\envs\\yh\\lib\\site-packages\\sklearn\\cluster\\_kmeans.py:1419: UserWarning: KMeans is known to have a memory leak on Windows with MKL, when there are less chunks than available threads. You can avoid it by setting the environment variable OMP_NUM_THREADS=1.\n",
      "  warnings.warn(\n",
      "C:\\Users\\406\\miniconda3\\envs\\yh\\lib\\site-packages\\sklearn\\cluster\\_kmeans.py:1419: UserWarning: KMeans is known to have a memory leak on Windows with MKL, when there are less chunks than available threads. You can avoid it by setting the environment variable OMP_NUM_THREADS=1.\n",
      "  warnings.warn(\n",
      "C:\\Users\\406\\miniconda3\\envs\\yh\\lib\\site-packages\\sklearn\\cluster\\_kmeans.py:1419: UserWarning: KMeans is known to have a memory leak on Windows with MKL, when there are less chunks than available threads. You can avoid it by setting the environment variable OMP_NUM_THREADS=1.\n",
      "  warnings.warn(\n",
      "C:\\Users\\406\\miniconda3\\envs\\yh\\lib\\site-packages\\sklearn\\cluster\\_kmeans.py:1419: UserWarning: KMeans is known to have a memory leak on Windows with MKL, when there are less chunks than available threads. You can avoid it by setting the environment variable OMP_NUM_THREADS=1.\n",
      "  warnings.warn(\n",
      "C:\\Users\\406\\miniconda3\\envs\\yh\\lib\\site-packages\\sklearn\\cluster\\_kmeans.py:1419: UserWarning: KMeans is known to have a memory leak on Windows with MKL, when there are less chunks than available threads. You can avoid it by setting the environment variable OMP_NUM_THREADS=1.\n",
      "  warnings.warn(\n",
      "C:\\Users\\406\\miniconda3\\envs\\yh\\lib\\site-packages\\sklearn\\cluster\\_kmeans.py:1419: UserWarning: KMeans is known to have a memory leak on Windows with MKL, when there are less chunks than available threads. You can avoid it by setting the environment variable OMP_NUM_THREADS=1.\n",
      "  warnings.warn(\n",
      "C:\\Users\\406\\miniconda3\\envs\\yh\\lib\\site-packages\\sklearn\\cluster\\_kmeans.py:1419: UserWarning: KMeans is known to have a memory leak on Windows with MKL, when there are less chunks than available threads. You can avoid it by setting the environment variable OMP_NUM_THREADS=1.\n",
      "  warnings.warn(\n"
     ]
    }
   ],
   "source": [
    "wcss = []\n",
    "for k in range(1, 10+1):\n",
    "    kmeans = KMeans(n_clusters=k, random_state=5)\n",
    "    kmeans.fit(X)\n",
    "    wcss.append(kmeans.inertia_)"
   ]
  },
  {
   "cell_type": "code",
   "execution_count": 35,
   "metadata": {},
   "outputs": [
    {
     "data": {
      "text/plain": [
       "[666888.109626087,\n",
       " 235660.1862872549,\n",
       " 148952.65626166665,\n",
       " 115863.02039166665,\n",
       " 71210.34365476192,\n",
       " 56290.83186666667,\n",
       " 44666.429541666665,\n",
       " 36204.21809166666,\n",
       " 24910.04774166667,\n",
       " 22522.549666666666]"
      ]
     },
     "execution_count": 35,
     "metadata": {},
     "output_type": "execute_result"
    }
   ],
   "source": [
    "wcss"
   ]
  },
  {
   "cell_type": "code",
   "execution_count": 36,
   "metadata": {},
   "outputs": [],
   "source": [
    "df_wcss = pd.Series(wcss, index=range(1,10+1))"
   ]
  },
  {
   "cell_type": "code",
   "execution_count": 48,
   "metadata": {},
   "outputs": [
    {
     "data": {
      "image/png": "[encoded data removed]",
      "text/plain": [
       "<Figure size 640x480 with 1 Axes>"
      ]
     },
     "metadata": {},
     "output_type": "display_data"
    }
   ],
   "source": [
    "df_wcss.plot()\n",
    "plt.show()"
   ]
  },
  {
   "cell_type": "code",
   "execution_count": 49,
   "metadata": {},
   "outputs": [
    {
     "data": {
      "image/png": "[encoded data removed]",
      "text/plain": [
       "<Figure size 640x480 with 1 Axes>"
      ]
     },
     "metadata": {},
     "output_type": "display_data"
    }
   ],
   "source": [
    "df_wcss.plot(kind = 'bar')\n",
    "plt.show()"
   ]
  },
  {
   "cell_type": "code",
   "execution_count": 54,
   "metadata": {},
   "outputs": [],
   "source": [
    "kmeans = KMeans(n_clusters=5, random_state=5)"
   ]
  },
  {
   "cell_type": "code",
   "execution_count": 55,
   "metadata": {},
   "outputs": [
    {
     "name": "stderr",
     "output_type": "stream",
     "text": [
      "C:\\Users\\406\\miniconda3\\envs\\yh\\lib\\site-packages\\sklearn\\cluster\\_kmeans.py:1419: UserWarning: KMeans is known to have a memory leak on Windows with MKL, when there are less chunks than available threads. You can avoid it by setting the environment variable OMP_NUM_THREADS=1.\n",
      "  warnings.warn(\n"
     ]
    }
   ],
   "source": [
    "y_pred = kmeans.fit_predict(X)"
   ]
  },
  {
   "cell_type": "code",
   "execution_count": 56,
   "metadata": {},
   "outputs": [],
   "source": [
    "df['Group'] = y_pred"
   ]
  },
  {
   "cell_type": "code",
   "execution_count": 58,
   "metadata": {},
   "outputs": [
    {
     "data": {
      "text/html": [
       "<div>\n",
       "<style scoped>\n",
       "    .dataframe tbody tr th:only-of-type {\n",
       "        vertical-align: middle;\n",
       "    }\n",
       "\n",
       "    .dataframe tbody tr th {\n",
       "        vertical-align: top;\n",
       "    }\n",
       "\n",
       "    .dataframe thead th {\n",
       "        text-align: right;\n",
       "    }\n",
       "</style>\n",
       "<table border=\"1\" class=\"dataframe\">\n",
       "  <thead>\n",
       "    <tr style=\"text-align: right;\">\n",
       "      <th></th>\n",
       "      <th>PROBLEM_TYPE</th>\n",
       "      <th>no_of_cases</th>\n",
       "      <th>Avg_pending_calls</th>\n",
       "      <th>Avg_resol_time</th>\n",
       "      <th>recurrence_freq</th>\n",
       "      <th>Replace_percent</th>\n",
       "      <th>In_warranty_percent</th>\n",
       "      <th>Post_warranty_percent</th>\n",
       "      <th>Group</th>\n",
       "    </tr>\n",
       "  </thead>\n",
       "  <tbody>\n",
       "    <tr>\n",
       "      <th>0</th>\n",
       "      <td>Temperature control not working</td>\n",
       "      <td>170</td>\n",
       "      <td>1.3</td>\n",
       "      <td>32</td>\n",
       "      <td>0.04</td>\n",
       "      <td>0.00</td>\n",
       "      <td>75</td>\n",
       "      <td>25</td>\n",
       "      <td>2</td>\n",
       "    </tr>\n",
       "    <tr>\n",
       "      <th>7</th>\n",
       "      <td>App takes a long time to initialize</td>\n",
       "      <td>165</td>\n",
       "      <td>1.2</td>\n",
       "      <td>32</td>\n",
       "      <td>0.03</td>\n",
       "      <td>0.00</td>\n",
       "      <td>95</td>\n",
       "      <td>5</td>\n",
       "      <td>2</td>\n",
       "    </tr>\n",
       "    <tr>\n",
       "      <th>11</th>\n",
       "      <td>Cluttered with popup messages</td>\n",
       "      <td>230</td>\n",
       "      <td>1.3</td>\n",
       "      <td>23</td>\n",
       "      <td>0.02</td>\n",
       "      <td>0.00</td>\n",
       "      <td>10</td>\n",
       "      <td>90</td>\n",
       "      <td>2</td>\n",
       "    </tr>\n",
       "    <tr>\n",
       "      <th>12</th>\n",
       "      <td>AC controller sofware missing</td>\n",
       "      <td>193</td>\n",
       "      <td>1.2</td>\n",
       "      <td>33</td>\n",
       "      <td>0.03</td>\n",
       "      <td>0.00</td>\n",
       "      <td>100</td>\n",
       "      <td>0</td>\n",
       "      <td>2</td>\n",
       "    </tr>\n",
       "    <tr>\n",
       "      <th>17</th>\n",
       "      <td>Freshner holder stuck</td>\n",
       "      <td>140</td>\n",
       "      <td>1.7</td>\n",
       "      <td>23</td>\n",
       "      <td>0.05</td>\n",
       "      <td>0.04</td>\n",
       "      <td>60</td>\n",
       "      <td>40</td>\n",
       "      <td>2</td>\n",
       "    </tr>\n",
       "  </tbody>\n",
       "</table>\n",
       "</div>"
      ],
      "text/plain": [
       "                           PROBLEM_TYPE  no_of_cases  Avg_pending_calls  \\\n",
       "0       Temperature control not working          170                1.3   \n",
       "7   App takes a long time to initialize          165                1.2   \n",
       "11        Cluttered with popup messages          230                1.3   \n",
       "12        AC controller sofware missing          193                1.2   \n",
       "17               Freshner holder stuck           140                1.7   \n",
       "\n",
       "    Avg_resol_time  recurrence_freq  Replace_percent  In_warranty_percent  \\\n",
       "0               32             0.04             0.00                   75   \n",
       "7               32             0.03             0.00                   95   \n",
       "11              23             0.02             0.00                   10   \n",
       "12              33             0.03             0.00                  100   \n",
       "17              23             0.05             0.04                   60   \n",
       "\n",
       "    Post_warranty_percent  Group  \n",
       "0                      25      2  \n",
       "7                       5      2  \n",
       "11                     90      2  \n",
       "12                      0      2  \n",
       "17                     40      2  "
      ]
     },
     "execution_count": 58,
     "metadata": {},
     "output_type": "execute_result"
    }
   ],
   "source": [
    "df.loc[df['Group'] == 2, ]"
   ]
  },
  {
   "cell_type": "code",
   "execution_count": null,
   "metadata": {},
   "outputs": [],
   "source": []
  },
  {
   "cell_type": "code",
   "execution_count": 118,
   "metadata": {},
   "outputs": [],
   "source": [
    "# 실습2"
   ]
  },
  {
   "cell_type": "code",
   "execution_count": 222,
   "metadata": {},
   "outputs": [],
   "source": [
    "df = pd.read_csv('../data/food_delivery_customer_dataset_original.csv')"
   ]
  },
  {
   "cell_type": "code",
   "execution_count": 223,
   "metadata": {},
   "outputs": [
    {
     "data": {
      "text/html": [
       "<div>\n",
       "<style scoped>\n",
       "    .dataframe tbody tr th:only-of-type {\n",
       "        vertical-align: middle;\n",
       "    }\n",
       "\n",
       "    .dataframe tbody tr th {\n",
       "        vertical-align: top;\n",
       "    }\n",
       "\n",
       "    .dataframe thead th {\n",
       "        text-align: right;\n",
       "    }\n",
       "</style>\n",
       "<table border=\"1\" class=\"dataframe\">\n",
       "  <thead>\n",
       "    <tr style=\"text-align: right;\">\n",
       "      <th></th>\n",
       "      <th>customer_id</th>\n",
       "      <th>order_count</th>\n",
       "      <th>total_quantity</th>\n",
       "      <th>total_spent</th>\n",
       "      <th>avg_order_time</th>\n",
       "      <th>favorite_category</th>\n",
       "      <th>region</th>\n",
       "      <th>avg_reorder_cycle_days</th>\n",
       "    </tr>\n",
       "  </thead>\n",
       "  <tbody>\n",
       "    <tr>\n",
       "      <th>0</th>\n",
       "      <td>CUST_1</td>\n",
       "      <td>5</td>\n",
       "      <td>1</td>\n",
       "      <td>14753</td>\n",
       "      <td>1</td>\n",
       "      <td>피자</td>\n",
       "      <td>성동구</td>\n",
       "      <td>23</td>\n",
       "    </tr>\n",
       "    <tr>\n",
       "      <th>1</th>\n",
       "      <td>CUST_2</td>\n",
       "      <td>8</td>\n",
       "      <td>1</td>\n",
       "      <td>10600</td>\n",
       "      <td>1</td>\n",
       "      <td>야식</td>\n",
       "      <td>송파구</td>\n",
       "      <td>17</td>\n",
       "    </tr>\n",
       "    <tr>\n",
       "      <th>2</th>\n",
       "      <td>CUST_3</td>\n",
       "      <td>3</td>\n",
       "      <td>2</td>\n",
       "      <td>21042</td>\n",
       "      <td>22</td>\n",
       "      <td>피자</td>\n",
       "      <td>마포구</td>\n",
       "      <td>13</td>\n",
       "    </tr>\n",
       "  </tbody>\n",
       "</table>\n",
       "</div>"
      ],
      "text/plain": [
       "  customer_id  order_count  total_quantity  total_spent  avg_order_time  \\\n",
       "0      CUST_1            5               1        14753               1   \n",
       "1      CUST_2            8               1        10600               1   \n",
       "2      CUST_3            3               2        21042              22   \n",
       "\n",
       "  favorite_category region  avg_reorder_cycle_days  \n",
       "0                피자    성동구                      23  \n",
       "1                야식    송파구                      17  \n",
       "2                피자    마포구                      13  "
      ]
     },
     "execution_count": 223,
     "metadata": {},
     "output_type": "execute_result"
    }
   ],
   "source": [
    "df.head(3)"
   ]
  },
  {
   "cell_type": "code",
   "execution_count": 224,
   "metadata": {},
   "outputs": [
    {
     "data": {
      "text/plain": [
       "customer_id               0\n",
       "order_count               0\n",
       "total_quantity            0\n",
       "total_spent               0\n",
       "avg_order_time            0\n",
       "favorite_category         0\n",
       "region                    0\n",
       "avg_reorder_cycle_days    0\n",
       "dtype: int64"
      ]
     },
     "execution_count": 224,
     "metadata": {},
     "output_type": "execute_result"
    }
   ],
   "source": [
    "df.isna().sum()"
   ]
  },
  {
   "cell_type": "code",
   "execution_count": 225,
   "metadata": {},
   "outputs": [
    {
     "name": "stdout",
     "output_type": "stream",
     "text": [
      "<class 'pandas.core.frame.DataFrame'>\n",
      "RangeIndex: 1600 entries, 0 to 1599\n",
      "Data columns (total 8 columns):\n",
      " #   Column                  Non-Null Count  Dtype \n",
      "---  ------                  --------------  ----- \n",
      " 0   customer_id             1600 non-null   object\n",
      " 1   order_count             1600 non-null   int64 \n",
      " 2   total_quantity          1600 non-null   int64 \n",
      " 3   total_spent             1600 non-null   int64 \n",
      " 4   avg_order_time          1600 non-null   int64 \n",
      " 5   favorite_category       1600 non-null   object\n",
      " 6   region                  1600 non-null   object\n",
      " 7   avg_reorder_cycle_days  1600 non-null   int64 \n",
      "dtypes: int64(5), object(3)\n",
      "memory usage: 100.1+ KB\n"
     ]
    }
   ],
   "source": [
    "df.info()"
   ]
  },
  {
   "cell_type": "code",
   "execution_count": 226,
   "metadata": {},
   "outputs": [
    {
     "data": {
      "text/plain": [
       "array(['피자', '야식', '치킨', '한식', '중식', '분식', '족발/보쌈', '일식', '프리미엄 스테이크',\n",
       "       '프리미엄 해산물', '양식'], dtype=object)"
      ]
     },
     "execution_count": 226,
     "metadata": {},
     "output_type": "execute_result"
    }
   ],
   "source": [
    "df['favorite_category'].unique()"
   ]
  },
  {
   "cell_type": "code",
   "execution_count": 227,
   "metadata": {},
   "outputs": [
    {
     "data": {
      "text/plain": [
       "array(['성동구', '송파구', '마포구', '용산구', '강남구'], dtype=object)"
      ]
     },
     "execution_count": 227,
     "metadata": {},
     "output_type": "execute_result"
    }
   ],
   "source": [
    "df['region'].unique()"
   ]
  },
  {
   "cell_type": "code",
   "execution_count": 228,
   "metadata": {},
   "outputs": [],
   "source": [
    "X = df.loc[:,'order_count': ]"
   ]
  },
  {
   "cell_type": "code",
   "execution_count": 229,
   "metadata": {},
   "outputs": [
    {
     "data": {
      "text/html": [
       "<div>\n",
       "<style scoped>\n",
       "    .dataframe tbody tr th:only-of-type {\n",
       "        vertical-align: middle;\n",
       "    }\n",
       "\n",
       "    .dataframe tbody tr th {\n",
       "        vertical-align: top;\n",
       "    }\n",
       "\n",
       "    .dataframe thead th {\n",
       "        text-align: right;\n",
       "    }\n",
       "</style>\n",
       "<table border=\"1\" class=\"dataframe\">\n",
       "  <thead>\n",
       "    <tr style=\"text-align: right;\">\n",
       "      <th></th>\n",
       "      <th>order_count</th>\n",
       "      <th>total_quantity</th>\n",
       "      <th>total_spent</th>\n",
       "      <th>avg_order_time</th>\n",
       "      <th>favorite_category</th>\n",
       "      <th>region</th>\n",
       "      <th>avg_reorder_cycle_days</th>\n",
       "    </tr>\n",
       "  </thead>\n",
       "  <tbody>\n",
       "    <tr>\n",
       "      <th>0</th>\n",
       "      <td>5</td>\n",
       "      <td>1</td>\n",
       "      <td>14753</td>\n",
       "      <td>1</td>\n",
       "      <td>피자</td>\n",
       "      <td>성동구</td>\n",
       "      <td>23</td>\n",
       "    </tr>\n",
       "    <tr>\n",
       "      <th>1</th>\n",
       "      <td>8</td>\n",
       "      <td>1</td>\n",
       "      <td>10600</td>\n",
       "      <td>1</td>\n",
       "      <td>야식</td>\n",
       "      <td>송파구</td>\n",
       "      <td>17</td>\n",
       "    </tr>\n",
       "    <tr>\n",
       "      <th>2</th>\n",
       "      <td>3</td>\n",
       "      <td>2</td>\n",
       "      <td>21042</td>\n",
       "      <td>22</td>\n",
       "      <td>피자</td>\n",
       "      <td>마포구</td>\n",
       "      <td>13</td>\n",
       "    </tr>\n",
       "  </tbody>\n",
       "</table>\n",
       "</div>"
      ],
      "text/plain": [
       "   order_count  total_quantity  total_spent  avg_order_time favorite_category  \\\n",
       "0            5               1        14753               1                피자   \n",
       "1            8               1        10600               1                야식   \n",
       "2            3               2        21042              22                피자   \n",
       "\n",
       "  region  avg_reorder_cycle_days  \n",
       "0    성동구                      23  \n",
       "1    송파구                      17  \n",
       "2    마포구                      13  "
      ]
     },
     "execution_count": 229,
     "metadata": {},
     "output_type": "execute_result"
    }
   ],
   "source": [
    "X.head(3)"
   ]
  },
  {
   "cell_type": "code",
   "execution_count": 230,
   "metadata": {},
   "outputs": [],
   "source": [
    "from sklearn.preprocessing import LabelEncoder, OrdinalEncoder, OneHotEncoder, StandardScaler, MinMaxScaler"
   ]
  },
  {
   "cell_type": "code",
   "execution_count": 231,
   "metadata": {},
   "outputs": [],
   "source": [
    "from sklearn.compose import ColumnTransformer"
   ]
  },
  {
   "cell_type": "code",
   "execution_count": 232,
   "metadata": {},
   "outputs": [],
   "source": [
    "ct = ColumnTransformer( [ ('scaler', MinMaxScaler(), [0, 1, 2, 3, 6]),\n",
    "                          ('onehot', OneHotEncoder(), [4, 5] ) ] )"
   ]
  },
  {
   "cell_type": "code",
   "execution_count": 233,
   "metadata": {},
   "outputs": [],
   "source": [
    "X = ct.fit_transform(X)"
   ]
  },
  {
   "cell_type": "code",
   "execution_count": 234,
   "metadata": {},
   "outputs": [],
   "source": [
    "from sklearn.cluster import KMeans"
   ]
  },
  {
   "cell_type": "code",
   "execution_count": 235,
   "metadata": {},
   "outputs": [],
   "source": [
    "kmeans = KMeans(n_clusters= 7, random_state=10)"
   ]
  },
  {
   "cell_type": "code",
   "execution_count": 236,
   "metadata": {},
   "outputs": [],
   "source": [
    "y_pred = kmeans.fit_predict(X)"
   ]
  },
  {
   "cell_type": "code",
   "execution_count": 237,
   "metadata": {},
   "outputs": [],
   "source": [
    "df['Group'] = y_pred"
   ]
  },
  {
   "cell_type": "code",
   "execution_count": 238,
   "metadata": {},
   "outputs": [],
   "source": [
    "wcss = []\n",
    "for k in range(1, 10+1):\n",
    "    kmeans = KMeans(n_clusters=k, random_state=5)\n",
    "    kmeans.fit(X)\n",
    "    wcss.append(kmeans.inertia_)"
   ]
  },
  {
   "cell_type": "code",
   "execution_count": 239,
   "metadata": {},
   "outputs": [
    {
     "data": {
      "text/plain": [
       "[3390.872776097337,\n",
       " 3057.8813060021566,\n",
       " 2744.713113952789,\n",
       " 2424.445445522795,\n",
       " 2104.759296066477,\n",
       " 2053.591693166245,\n",
       " 1988.7233497893535,\n",
       " 1978.0059649367183,\n",
       " 1924.974610517599,\n",
       " 1886.4211175762907]"
      ]
     },
     "execution_count": 239,
     "metadata": {},
     "output_type": "execute_result"
    }
   ],
   "source": [
    "wcss"
   ]
  },
  {
   "cell_type": "code",
   "execution_count": 240,
   "metadata": {},
   "outputs": [],
   "source": [
    "df_wcss = pd.Series(wcss, index=range(1,10+1))"
   ]
  },
  {
   "cell_type": "code",
   "execution_count": 241,
   "metadata": {},
   "outputs": [
    {
     "data": {
      "image/png": "[encoded data removed]",
      "text/plain": [
       "<Figure size 640x480 with 1 Axes>"
      ]
     },
     "metadata": {},
     "output_type": "display_data"
    }
   ],
   "source": [
    "df_wcss.plot()\n",
    "plt.show()"
   ]
  },
  {
   "cell_type": "code",
   "execution_count": 242,
   "metadata": {},
   "outputs": [
    {
     "data": {
      "image/png": "[encoded data removed]",
      "text/plain": [
       "<Figure size 640x480 with 1 Axes>"
      ]
     },
     "metadata": {},
     "output_type": "display_data"
    }
   ],
   "source": [
    "df_wcss.plot(kind = 'bar')\n",
    "plt.show()"
   ]
  },
  {
   "cell_type": "code",
   "execution_count": 243,
   "metadata": {},
   "outputs": [],
   "source": [
    "kmeans = KMeans(n_clusters=5, random_state=5)"
   ]
  },
  {
   "cell_type": "code",
   "execution_count": 244,
   "metadata": {},
   "outputs": [],
   "source": [
    "y_pred = kmeans.fit_predict(X)"
   ]
  },
  {
   "cell_type": "code",
   "execution_count": 245,
   "metadata": {},
   "outputs": [],
   "source": [
    "df['Group'] = y_pred"
   ]
  },
  {
   "cell_type": "code",
   "execution_count": 251,
   "metadata": {},
   "outputs": [
    {
     "data": {
      "text/plain": [
       "array(['강남구'], dtype=object)"
      ]
     },
     "execution_count": 251,
     "metadata": {},
     "output_type": "execute_result"
    }
   ],
   "source": [
    "df.loc[df['Group'] == 0, 'region' ].unique()"
   ]
  },
  {
   "cell_type": "code",
   "execution_count": 252,
   "metadata": {},
   "outputs": [
    {
     "data": {
      "text/plain": [
       "array(['성동구'], dtype=object)"
      ]
     },
     "execution_count": 252,
     "metadata": {},
     "output_type": "execute_result"
    }
   ],
   "source": [
    "df.loc[df['Group'] == 1, 'region' ].unique()"
   ]
  },
  {
   "cell_type": "code",
   "execution_count": 246,
   "metadata": {},
   "outputs": [
    {
     "data": {
      "text/plain": [
       "array(['마포구'], dtype=object)"
      ]
     },
     "execution_count": 246,
     "metadata": {},
     "output_type": "execute_result"
    }
   ],
   "source": [
    "df.loc[df['Group'] == 2, 'region' ].unique()"
   ]
  },
  {
   "cell_type": "code",
   "execution_count": 250,
   "metadata": {},
   "outputs": [
    {
     "data": {
      "text/plain": [
       "array(['용산구'], dtype=object)"
      ]
     },
     "execution_count": 250,
     "metadata": {},
     "output_type": "execute_result"
    }
   ],
   "source": [
    "df.loc[df['Group'] == 3, 'region' ].unique()"
   ]
  },
  {
   "cell_type": "code",
   "execution_count": null,
   "metadata": {},
   "outputs": [],
   "source": [
    "# 1. egion 컬럼을 제외하고 클러스터링 한다.\n",
    "# 2. silhouette 실루엣 스코어를 계산한다."
   ]
  },
  {
   "cell_type": "markdown",
   "metadata": {},
   "source": [
    "silhouette 실루엣 스코어 계산"
   ]
  },
  {
   "cell_type": "code",
   "execution_count": 247,
   "metadata": {},
   "outputs": [],
   "source": [
    "from sklearn.metrics import silhouette_score"
   ]
  },
  {
   "cell_type": "code",
   "execution_count": 248,
   "metadata": {},
   "outputs": [],
   "source": [
    "score_list = []\n",
    "for k in range(2,10+1):  # 실루엣 스코어 구할 때 클러스터 2개 이상으로 넣어줘야 한다.\n",
    "    kmeans = KMeans(n_clusters=k, random_state=5)\n",
    "    y_pred = kmeans.fit_predict(X)\n",
    "    score = silhouette_score(X, y_pred)\n",
    "    score_list.append(score)"
   ]
  },
  {
   "cell_type": "markdown",
   "metadata": {},
   "source": [
    "실루엣 스코어는 -1~1 사이의 숫자이고 1에 가까울 수록 군집이 잘 뭉쳐있는 것이다."
   ]
  },
  {
   "cell_type": "code",
   "execution_count": 249,
   "metadata": {},
   "outputs": [
    {
     "data": {
      "text/plain": [
       "[0.10489486830735664,\n",
       " 0.1526280380096412,\n",
       " 0.20238108998157764,\n",
       " 0.25324640702872914,\n",
       " 0.2111031131738809,\n",
       " 0.1895633307946937,\n",
       " 0.17954189144933277,\n",
       " 0.16642557791603352,\n",
       " 0.14898665633111963]"
      ]
     },
     "execution_count": 249,
     "metadata": {},
     "output_type": "execute_result"
    }
   ],
   "source": [
    "score_list"
   ]
  },
  {
   "cell_type": "code",
   "execution_count": 253,
   "metadata": {},
   "outputs": [
    {
     "data": {
      "text/html": [
       "<div>\n",
       "<style scoped>\n",
       "    .dataframe tbody tr th:only-of-type {\n",
       "        vertical-align: middle;\n",
       "    }\n",
       "\n",
       "    .dataframe tbody tr th {\n",
       "        vertical-align: top;\n",
       "    }\n",
       "\n",
       "    .dataframe thead th {\n",
       "        text-align: right;\n",
       "    }\n",
       "</style>\n",
       "<table border=\"1\" class=\"dataframe\">\n",
       "  <thead>\n",
       "    <tr style=\"text-align: right;\">\n",
       "      <th></th>\n",
       "      <th>customer_id</th>\n",
       "      <th>order_count</th>\n",
       "      <th>total_quantity</th>\n",
       "      <th>total_spent</th>\n",
       "      <th>avg_order_time</th>\n",
       "      <th>favorite_category</th>\n",
       "      <th>region</th>\n",
       "      <th>avg_reorder_cycle_days</th>\n",
       "      <th>Group</th>\n",
       "    </tr>\n",
       "  </thead>\n",
       "  <tbody>\n",
       "    <tr>\n",
       "      <th>0</th>\n",
       "      <td>CUST_1</td>\n",
       "      <td>5</td>\n",
       "      <td>1</td>\n",
       "      <td>14753</td>\n",
       "      <td>1</td>\n",
       "      <td>피자</td>\n",
       "      <td>성동구</td>\n",
       "      <td>23</td>\n",
       "      <td>1</td>\n",
       "    </tr>\n",
       "    <tr>\n",
       "      <th>1</th>\n",
       "      <td>CUST_2</td>\n",
       "      <td>8</td>\n",
       "      <td>1</td>\n",
       "      <td>10600</td>\n",
       "      <td>1</td>\n",
       "      <td>야식</td>\n",
       "      <td>송파구</td>\n",
       "      <td>17</td>\n",
       "      <td>4</td>\n",
       "    </tr>\n",
       "    <tr>\n",
       "      <th>2</th>\n",
       "      <td>CUST_3</td>\n",
       "      <td>3</td>\n",
       "      <td>2</td>\n",
       "      <td>21042</td>\n",
       "      <td>22</td>\n",
       "      <td>피자</td>\n",
       "      <td>마포구</td>\n",
       "      <td>13</td>\n",
       "      <td>2</td>\n",
       "    </tr>\n",
       "    <tr>\n",
       "      <th>3</th>\n",
       "      <td>CUST_4</td>\n",
       "      <td>8</td>\n",
       "      <td>1</td>\n",
       "      <td>9553</td>\n",
       "      <td>23</td>\n",
       "      <td>피자</td>\n",
       "      <td>성동구</td>\n",
       "      <td>28</td>\n",
       "      <td>1</td>\n",
       "    </tr>\n",
       "    <tr>\n",
       "      <th>4</th>\n",
       "      <td>CUST_5</td>\n",
       "      <td>1</td>\n",
       "      <td>1</td>\n",
       "      <td>13534</td>\n",
       "      <td>0</td>\n",
       "      <td>야식</td>\n",
       "      <td>마포구</td>\n",
       "      <td>8</td>\n",
       "      <td>2</td>\n",
       "    </tr>\n",
       "    <tr>\n",
       "      <th>...</th>\n",
       "      <td>...</td>\n",
       "      <td>...</td>\n",
       "      <td>...</td>\n",
       "      <td>...</td>\n",
       "      <td>...</td>\n",
       "      <td>...</td>\n",
       "      <td>...</td>\n",
       "      <td>...</td>\n",
       "      <td>...</td>\n",
       "    </tr>\n",
       "    <tr>\n",
       "      <th>1595</th>\n",
       "      <td>CUST_1596</td>\n",
       "      <td>4</td>\n",
       "      <td>4</td>\n",
       "      <td>222628</td>\n",
       "      <td>18</td>\n",
       "      <td>일식</td>\n",
       "      <td>송파구</td>\n",
       "      <td>20</td>\n",
       "      <td>4</td>\n",
       "    </tr>\n",
       "    <tr>\n",
       "      <th>1596</th>\n",
       "      <td>CUST_1597</td>\n",
       "      <td>4</td>\n",
       "      <td>2</td>\n",
       "      <td>89576</td>\n",
       "      <td>18</td>\n",
       "      <td>프리미엄 해산물</td>\n",
       "      <td>송파구</td>\n",
       "      <td>11</td>\n",
       "      <td>4</td>\n",
       "    </tr>\n",
       "    <tr>\n",
       "      <th>1597</th>\n",
       "      <td>CUST_1598</td>\n",
       "      <td>8</td>\n",
       "      <td>2</td>\n",
       "      <td>89414</td>\n",
       "      <td>19</td>\n",
       "      <td>프리미엄 해산물</td>\n",
       "      <td>용산구</td>\n",
       "      <td>21</td>\n",
       "      <td>3</td>\n",
       "    </tr>\n",
       "    <tr>\n",
       "      <th>1598</th>\n",
       "      <td>CUST_1599</td>\n",
       "      <td>10</td>\n",
       "      <td>3</td>\n",
       "      <td>176712</td>\n",
       "      <td>19</td>\n",
       "      <td>프리미엄 스테이크</td>\n",
       "      <td>마포구</td>\n",
       "      <td>23</td>\n",
       "      <td>2</td>\n",
       "    </tr>\n",
       "    <tr>\n",
       "      <th>1599</th>\n",
       "      <td>CUST_1600</td>\n",
       "      <td>5</td>\n",
       "      <td>4</td>\n",
       "      <td>203172</td>\n",
       "      <td>19</td>\n",
       "      <td>일식</td>\n",
       "      <td>용산구</td>\n",
       "      <td>24</td>\n",
       "      <td>3</td>\n",
       "    </tr>\n",
       "  </tbody>\n",
       "</table>\n",
       "<p>1600 rows × 9 columns</p>\n",
       "</div>"
      ],
      "text/plain": [
       "     customer_id  order_count  total_quantity  total_spent  avg_order_time  \\\n",
       "0         CUST_1            5               1        14753               1   \n",
       "1         CUST_2            8               1        10600               1   \n",
       "2         CUST_3            3               2        21042              22   \n",
       "3         CUST_4            8               1         9553              23   \n",
       "4         CUST_5            1               1        13534               0   \n",
       "...          ...          ...             ...          ...             ...   \n",
       "1595   CUST_1596            4               4       222628              18   \n",
       "1596   CUST_1597            4               2        89576              18   \n",
       "1597   CUST_1598            8               2        89414              19   \n",
       "1598   CUST_1599           10               3       176712              19   \n",
       "1599   CUST_1600            5               4       203172              19   \n",
       "\n",
       "     favorite_category region  avg_reorder_cycle_days  Group  \n",
       "0                   피자    성동구                      23      1  \n",
       "1                   야식    송파구                      17      4  \n",
       "2                   피자    마포구                      13      2  \n",
       "3                   피자    성동구                      28      1  \n",
       "4                   야식    마포구                       8      2  \n",
       "...                ...    ...                     ...    ...  \n",
       "1595                일식    송파구                      20      4  \n",
       "1596          프리미엄 해산물    송파구                      11      4  \n",
       "1597          프리미엄 해산물    용산구                      21      3  \n",
       "1598         프리미엄 스테이크    마포구                      23      2  \n",
       "1599                일식    용산구                      24      3  \n",
       "\n",
       "[1600 rows x 9 columns]"
      ]
     },
     "execution_count": 253,
     "metadata": {},
     "output_type": "execute_result"
    }
   ],
   "source": [
    "df"
   ]
  },
  {
   "cell_type": "code",
   "execution_count": 255,
   "metadata": {},
   "outputs": [],
   "source": [
    "X = df.drop( ['customer_id', 'region'], axis=1 )"
   ]
  },
  {
   "cell_type": "code",
   "execution_count": 256,
   "metadata": {},
   "outputs": [
    {
     "data": {
      "text/html": [
       "<div>\n",
       "<style scoped>\n",
       "    .dataframe tbody tr th:only-of-type {\n",
       "        vertical-align: middle;\n",
       "    }\n",
       "\n",
       "    .dataframe tbody tr th {\n",
       "        vertical-align: top;\n",
       "    }\n",
       "\n",
       "    .dataframe thead th {\n",
       "        text-align: right;\n",
       "    }\n",
       "</style>\n",
       "<table border=\"1\" class=\"dataframe\">\n",
       "  <thead>\n",
       "    <tr style=\"text-align: right;\">\n",
       "      <th></th>\n",
       "      <th>order_count</th>\n",
       "      <th>total_quantity</th>\n",
       "      <th>total_spent</th>\n",
       "      <th>avg_order_time</th>\n",
       "      <th>favorite_category</th>\n",
       "      <th>avg_reorder_cycle_days</th>\n",
       "      <th>Group</th>\n",
       "    </tr>\n",
       "  </thead>\n",
       "  <tbody>\n",
       "    <tr>\n",
       "      <th>0</th>\n",
       "      <td>5</td>\n",
       "      <td>1</td>\n",
       "      <td>14753</td>\n",
       "      <td>1</td>\n",
       "      <td>피자</td>\n",
       "      <td>23</td>\n",
       "      <td>1</td>\n",
       "    </tr>\n",
       "    <tr>\n",
       "      <th>1</th>\n",
       "      <td>8</td>\n",
       "      <td>1</td>\n",
       "      <td>10600</td>\n",
       "      <td>1</td>\n",
       "      <td>야식</td>\n",
       "      <td>17</td>\n",
       "      <td>4</td>\n",
       "    </tr>\n",
       "    <tr>\n",
       "      <th>2</th>\n",
       "      <td>3</td>\n",
       "      <td>2</td>\n",
       "      <td>21042</td>\n",
       "      <td>22</td>\n",
       "      <td>피자</td>\n",
       "      <td>13</td>\n",
       "      <td>2</td>\n",
       "    </tr>\n",
       "  </tbody>\n",
       "</table>\n",
       "</div>"
      ],
      "text/plain": [
       "   order_count  total_quantity  total_spent  avg_order_time favorite_category  \\\n",
       "0            5               1        14753               1                피자   \n",
       "1            8               1        10600               1                야식   \n",
       "2            3               2        21042              22                피자   \n",
       "\n",
       "   avg_reorder_cycle_days  Group  \n",
       "0                      23      1  \n",
       "1                      17      4  \n",
       "2                      13      2  "
      ]
     },
     "execution_count": 256,
     "metadata": {},
     "output_type": "execute_result"
    }
   ],
   "source": [
    "X.head(3)"
   ]
  },
  {
   "cell_type": "code",
   "execution_count": 257,
   "metadata": {},
   "outputs": [],
   "source": [
    "ct = ColumnTransformer( [ ( 'onhot', OneHotEncoder(), [4] ) ,\n",
    "                          ( 'scaler', MinMaxScaler(), [0,1,2,3,5] ) ] )"
   ]
  },
  {
   "cell_type": "code",
   "execution_count": 259,
   "metadata": {},
   "outputs": [],
   "source": [
    "X = ct.fit_transform(X)"
   ]
  },
  {
   "cell_type": "code",
   "execution_count": 261,
   "metadata": {},
   "outputs": [],
   "source": [
    "wcss = []\n",
    "score_list =[]\n",
    "for k in range(2, 10+1):\n",
    "    kmeans = KMeans(n_clusters=k, random_state=5)\n",
    "    y_pred = kmeans.fit_predict(X)\n",
    "    score = silhouette_score(X, y_pred)\n",
    "    score_list.append(score)\n",
    "    wcss.append( kmeans.inertia_ )"
   ]
  },
  {
   "cell_type": "code",
   "execution_count": 264,
   "metadata": {},
   "outputs": [
    {
     "data": {
      "text/plain": [
       "[1850.0742581188658,\n",
       " 1687.4224799075598,\n",
       " 1477.553027116431,\n",
       " 1275.8976277562786,\n",
       " 1168.5864204049335,\n",
       " 988.6471144334407,\n",
       " 849.4670785272119,\n",
       " 743.2384865793715,\n",
       " 629.0108676966993]"
      ]
     },
     "execution_count": 264,
     "metadata": {},
     "output_type": "execute_result"
    }
   ],
   "source": [
    "wcss #차트 그려야함(엘보우)"
   ]
  },
  {
   "cell_type": "code",
   "execution_count": 265,
   "metadata": {},
   "outputs": [
    {
     "data": {
      "text/plain": [
       "[0.12992839732677378,\n",
       " 0.15803930872029748,\n",
       " 0.22033559965974658,\n",
       " 0.2885335524244872,\n",
       " 0.3139397695795816,\n",
       " 0.36994191732201714,\n",
       " 0.41398847174229503,\n",
       " 0.44972308750800494,\n",
       " 0.4878311168158012]"
      ]
     },
     "execution_count": 265,
     "metadata": {},
     "output_type": "execute_result"
    }
   ],
   "source": [
    "score_list #1로 갈 수록 좋은 거(가장  큰 값 찾으면 됨)"
   ]
  },
  {
   "cell_type": "code",
   "execution_count": 266,
   "metadata": {},
   "outputs": [],
   "source": [
    "df_wcss = pd.Series(wcss, index=range(2, 10+1))"
   ]
  },
  {
   "cell_type": "code",
   "execution_count": 268,
   "metadata": {},
   "outputs": [
    {
     "data": {
      "image/png": "[encoded data removed]",
      "text/plain": [
       "<Figure size 640x480 with 1 Axes>"
      ]
     },
     "metadata": {},
     "output_type": "display_data"
    }
   ],
   "source": [
    "df_wcss.plot()\n",
    "plt.show()"
   ]
  },
  {
   "cell_type": "code",
   "execution_count": null,
   "metadata": {},
   "outputs": [],
   "source": []
  },
  {
   "cell_type": "code",
   "execution_count": null,
   "metadata": {},
   "outputs": [],
   "source": []
  },
  {
   "cell_type": "code",
   "execution_count": null,
   "metadata": {},
   "outputs": [],
   "source": []
  },
  {
   "cell_type": "code",
   "execution_count": null,
   "metadata": {},
   "outputs": [],
   "source": []
  },
  {
   "cell_type": "code",
   "execution_count": null,
   "metadata": {},
   "outputs": [],
   "source": []
  },
  {
   "cell_type": "code",
   "execution_count": null,
   "metadata": {},
   "outputs": [],
   "source": []
  },
  {
   "cell_type": "code",
   "execution_count": null,
   "metadata": {},
   "outputs": [],
   "source": []
  }
 ],
 "metadata": {
  "kernelspec": {
   "display_name": "Python 3 (ipykernel)",
   "language": "python",
   "name": "python3"
  },
  "language_info": {
   "codemirror_mode": {
    "name": "ipython",
    "version": 3
   },
   "file_extension": ".py",
   "mimetype": "text/x-python",
   "name": "python",
   "nbconvert_exporter": "python",
   "pygments_lexer": "ipython3",
   "version": "3.10.18"
  }
 },
 "nbformat": 4,
 "nbformat_minor": 4
}
